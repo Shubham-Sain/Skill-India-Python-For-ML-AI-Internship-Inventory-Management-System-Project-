{
  "nbformat": 4,
  "nbformat_minor": 0,
  "metadata": {
    "colab": {
      "name": "Inventory Management (For Staff).ipynb",
      "provenance": [],
      "collapsed_sections": []
    },
    "kernelspec": {
      "name": "python3",
      "display_name": "Python 3"
    },
    "language_info": {
      "name": "python"
    }
  },
  "cells": [
    {
      "cell_type": "code",
      "metadata": {
        "id": "Xi0CwVgC4xrw"
      },
      "source": [
        "# READING INVENTORY.JSON FILE\n",
        "import json\n",
        "\n",
        "fd = open(\"Inventory.json\",\"r\")\n",
        "r = fd.read()\n",
        "fd.close()\n",
        "\n",
        "Inventory = json.loads(r)\n",
        "\n",
        "\n",
        "\n",
        "# ADD NEW ITEM INTO INVENTORY.JSON\n",
        "id = int(input(\"Enter Product ID of the item you want to add : \"))\n",
        "product_pre_existence = 'NO'\n",
        "\n",
        "for i in range(1,(len(Inventory)+1)):\n",
        "  if (i == id):\n",
        "    product_pre_existence = 'YES'\n",
        "    quantity_to_add = int(input(\"Enter Quantity of the item you want to add : \"))\n",
        "    Inventory[str(i)][\"QUANTITY_IN_STOCK\"] += quantity_to_add\n",
        "    break\n",
        "\n",
        "if (product_pre_existence != 'YES'):\n",
        "  name = str(input(\"Enter Name of the item you want to add : \"))\n",
        "  brand = str(input(\"Enter Brand of the item you want to add : \"))\n",
        "  category = str(input(\"Enter Category of the item you want to add : \"))\n",
        "  sell_price = float(input(\"Enter Price of the item you want to add : \"))\n",
        "  quantity_in_stock = int(input(\"Enter Quantity of the item you want to add : \"))\n",
        "  Inventory[str(id)] = {\"NAME\": name, \"BRAND\": brand, \"CATEGORY\": category,\"SELL_PRICE\": sell_price, \"QUANTITY_IN_STOCK\": quantity_in_stock}\n",
        "\n",
        "js = json.dumps(Inventory)\n",
        "\n",
        "fd = open(\"Inventory.json\",\"w\")\n",
        "fd.write(js)\n",
        "fd.close()"
      ],
      "execution_count": null,
      "outputs": []
    }
  ]
}
