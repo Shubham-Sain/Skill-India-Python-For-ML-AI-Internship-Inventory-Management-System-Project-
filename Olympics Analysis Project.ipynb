{
  "nbformat": 4,
  "nbformat_minor": 0,
  "metadata": {
    "colab": {
      "name": "Olympics Analysis Project.ipynb",
      "provenance": [],
      "collapsed_sections": []
    },
    "kernelspec": {
      "name": "python3",
      "display_name": "Python 3"
    },
    "language_info": {
      "name": "python"
    }
  },
  "cells": [
    {
      "cell_type": "markdown",
      "metadata": {
        "id": "qx2pMyHM4ppm"
      },
      "source": [
        "# **Summer Olympics Data Analysis Assignment**"
      ]
    },
    {
      "cell_type": "code",
      "metadata": {
        "id": "nXWt7dT2WsRn"
      },
      "source": [
        "import numpy as np\n",
        "import pandas as pd\n",
        "import matplotlib.pyplot as plt\n",
        "\n",
        "df = pd.read_csv('summer.csv')"
      ],
      "execution_count": 289,
      "outputs": []
    },
    {
      "cell_type": "code",
      "metadata": {
        "colab": {
          "base_uri": "https://localhost:8080/",
          "height": 203
        },
        "id": "QLgmfPFiXA2j",
        "outputId": "f2409cbf-c4b6-4d85-8389-cb7ed14a671f"
      },
      "source": [
        "df.head()"
      ],
      "execution_count": 290,
      "outputs": [
        {
          "output_type": "execute_result",
          "data": {
            "text/html": [
              "<div>\n",
              "<style scoped>\n",
              "    .dataframe tbody tr th:only-of-type {\n",
              "        vertical-align: middle;\n",
              "    }\n",
              "\n",
              "    .dataframe tbody tr th {\n",
              "        vertical-align: top;\n",
              "    }\n",
              "\n",
              "    .dataframe thead th {\n",
              "        text-align: right;\n",
              "    }\n",
              "</style>\n",
              "<table border=\"1\" class=\"dataframe\">\n",
              "  <thead>\n",
              "    <tr style=\"text-align: right;\">\n",
              "      <th></th>\n",
              "      <th>Year</th>\n",
              "      <th>City</th>\n",
              "      <th>Sport</th>\n",
              "      <th>Discipline</th>\n",
              "      <th>Athlete</th>\n",
              "      <th>Country</th>\n",
              "      <th>Gender</th>\n",
              "      <th>Event</th>\n",
              "      <th>Medal</th>\n",
              "    </tr>\n",
              "  </thead>\n",
              "  <tbody>\n",
              "    <tr>\n",
              "      <th>0</th>\n",
              "      <td>1896</td>\n",
              "      <td>Athens</td>\n",
              "      <td>Aquatics</td>\n",
              "      <td>Swimming</td>\n",
              "      <td>HAJOS, Alfred</td>\n",
              "      <td>HUN</td>\n",
              "      <td>Men</td>\n",
              "      <td>100M Freestyle</td>\n",
              "      <td>Gold</td>\n",
              "    </tr>\n",
              "    <tr>\n",
              "      <th>1</th>\n",
              "      <td>1896</td>\n",
              "      <td>Athens</td>\n",
              "      <td>Aquatics</td>\n",
              "      <td>Swimming</td>\n",
              "      <td>HERSCHMANN, Otto</td>\n",
              "      <td>AUT</td>\n",
              "      <td>Men</td>\n",
              "      <td>100M Freestyle</td>\n",
              "      <td>Silver</td>\n",
              "    </tr>\n",
              "    <tr>\n",
              "      <th>2</th>\n",
              "      <td>1896</td>\n",
              "      <td>Athens</td>\n",
              "      <td>Aquatics</td>\n",
              "      <td>Swimming</td>\n",
              "      <td>DRIVAS, Dimitrios</td>\n",
              "      <td>GRE</td>\n",
              "      <td>Men</td>\n",
              "      <td>100M Freestyle For Sailors</td>\n",
              "      <td>Bronze</td>\n",
              "    </tr>\n",
              "    <tr>\n",
              "      <th>3</th>\n",
              "      <td>1896</td>\n",
              "      <td>Athens</td>\n",
              "      <td>Aquatics</td>\n",
              "      <td>Swimming</td>\n",
              "      <td>MALOKINIS, Ioannis</td>\n",
              "      <td>GRE</td>\n",
              "      <td>Men</td>\n",
              "      <td>100M Freestyle For Sailors</td>\n",
              "      <td>Gold</td>\n",
              "    </tr>\n",
              "    <tr>\n",
              "      <th>4</th>\n",
              "      <td>1896</td>\n",
              "      <td>Athens</td>\n",
              "      <td>Aquatics</td>\n",
              "      <td>Swimming</td>\n",
              "      <td>CHASAPIS, Spiridon</td>\n",
              "      <td>GRE</td>\n",
              "      <td>Men</td>\n",
              "      <td>100M Freestyle For Sailors</td>\n",
              "      <td>Silver</td>\n",
              "    </tr>\n",
              "  </tbody>\n",
              "</table>\n",
              "</div>"
            ],
            "text/plain": [
              "   Year    City     Sport  ... Gender                       Event   Medal\n",
              "0  1896  Athens  Aquatics  ...    Men              100M Freestyle    Gold\n",
              "1  1896  Athens  Aquatics  ...    Men              100M Freestyle  Silver\n",
              "2  1896  Athens  Aquatics  ...    Men  100M Freestyle For Sailors  Bronze\n",
              "3  1896  Athens  Aquatics  ...    Men  100M Freestyle For Sailors    Gold\n",
              "4  1896  Athens  Aquatics  ...    Men  100M Freestyle For Sailors  Silver\n",
              "\n",
              "[5 rows x 9 columns]"
            ]
          },
          "metadata": {},
          "execution_count": 290
        }
      ]
    },
    {
      "cell_type": "code",
      "metadata": {
        "colab": {
          "base_uri": "https://localhost:8080/"
        },
        "id": "2N5l-CH9Xphh",
        "outputId": "a167196c-0e58-495f-ca79-bf717e89ceb8"
      },
      "source": [
        "df.isnull().sum()"
      ],
      "execution_count": 291,
      "outputs": [
        {
          "output_type": "execute_result",
          "data": {
            "text/plain": [
              "Year          0\n",
              "City          0\n",
              "Sport         0\n",
              "Discipline    0\n",
              "Athlete       0\n",
              "Country       4\n",
              "Gender        0\n",
              "Event         0\n",
              "Medal         0\n",
              "dtype: int64"
            ]
          },
          "metadata": {},
          "execution_count": 291
        }
      ]
    },
    {
      "cell_type": "code",
      "metadata": {
        "id": "gZJAAGXuIC43"
      },
      "source": [
        "# Sir, you said on Telegram group that we don't have to remove null value entries; so I didn't."
      ],
      "execution_count": 292,
      "outputs": []
    },
    {
      "cell_type": "markdown",
      "metadata": {
        "id": "z1fxh4fG4uR4"
      },
      "source": [
        "### **1. In how many cities Summer Olympics is held so far?**"
      ]
    },
    {
      "cell_type": "code",
      "metadata": {
        "colab": {
          "base_uri": "https://localhost:8080/"
        },
        "id": "uuSVJgHrU7rg",
        "outputId": "57d8036f-1f8e-4ff1-acdc-02730b4f3ea1"
      },
      "source": [
        "df['City'].unique()"
      ],
      "execution_count": 293,
      "outputs": [
        {
          "output_type": "execute_result",
          "data": {
            "text/plain": [
              "array(['Athens', 'Paris', 'St Louis', 'London', 'Stockholm', 'Antwerp',\n",
              "       'Amsterdam', 'Los Angeles', 'Berlin', 'Helsinki',\n",
              "       'Melbourne / Stockholm', 'Rome', 'Tokyo', 'Mexico', 'Munich',\n",
              "       'Montreal', 'Moscow', 'Seoul', 'Barcelona', 'Atlanta', 'Sydney',\n",
              "       'Beijing'], dtype=object)"
            ]
          },
          "metadata": {},
          "execution_count": 293
        }
      ]
    },
    {
      "cell_type": "code",
      "metadata": {
        "colab": {
          "base_uri": "https://localhost:8080/"
        },
        "id": "MgKXVjSSa4yE",
        "outputId": "366c3571-db5a-44c7-d368-88ea6eab36c6"
      },
      "source": [
        "print(\"Total Number Of All Unique Cities Summer Olympics Have Held In So Far : \", len(df['City'].unique()))"
      ],
      "execution_count": 294,
      "outputs": [
        {
          "output_type": "stream",
          "name": "stdout",
          "text": [
            "Total Number Of All Unique Cities Summer Olympics Have Held In So Far :  22\n"
          ]
        }
      ]
    },
    {
      "cell_type": "markdown",
      "metadata": {
        "id": "SYTu3gwfVNwt"
      },
      "source": [
        "### **2. Which sport is having most number of Gold Medals so far? (Top 5)**"
      ]
    },
    {
      "cell_type": "code",
      "metadata": {
        "colab": {
          "base_uri": "https://localhost:8080/",
          "height": 203
        },
        "id": "DwO6DYwN404H",
        "outputId": "1d8b8ac3-9d12-4f3c-d591-a9538c7caf7b"
      },
      "source": [
        "GoldMedals = df[(df.Medal) == 'Gold']\n",
        "\n",
        "Gold_Medals_Per_Sport = []\n",
        "\n",
        "for i in GoldMedals['Sport'].unique():\n",
        "  Gold_Medals_Per_Sport.append([i, len(GoldMedals[GoldMedals['Sport'] == i])])\n",
        "\n",
        "Gold_Medals_Per_Sport = pd.DataFrame(Gold_Medals_Per_Sport, columns = ['SPORT', 'NUMBER OF GOLD MEDALS'])\n",
        "\n",
        "Gold_Medals_Per_Sport = Gold_Medals_Per_Sport.sort_values(by = 'NUMBER OF GOLD MEDALS', ascending = False)\n",
        "\n",
        "Gold_Medals_Per_Sport.head()"
      ],
      "execution_count": 295,
      "outputs": [
        {
          "output_type": "execute_result",
          "data": {
            "text/html": [
              "<div>\n",
              "<style scoped>\n",
              "    .dataframe tbody tr th:only-of-type {\n",
              "        vertical-align: middle;\n",
              "    }\n",
              "\n",
              "    .dataframe tbody tr th {\n",
              "        vertical-align: top;\n",
              "    }\n",
              "\n",
              "    .dataframe thead th {\n",
              "        text-align: right;\n",
              "    }\n",
              "</style>\n",
              "<table border=\"1\" class=\"dataframe\">\n",
              "  <thead>\n",
              "    <tr style=\"text-align: right;\">\n",
              "      <th></th>\n",
              "      <th>SPORT</th>\n",
              "      <th>NUMBER OF GOLD MEDALS</th>\n",
              "    </tr>\n",
              "  </thead>\n",
              "  <tbody>\n",
              "    <tr>\n",
              "      <th>0</th>\n",
              "      <td>Aquatics</td>\n",
              "      <td>1421</td>\n",
              "    </tr>\n",
              "    <tr>\n",
              "      <th>1</th>\n",
              "      <td>Athletics</td>\n",
              "      <td>1215</td>\n",
              "    </tr>\n",
              "    <tr>\n",
              "      <th>17</th>\n",
              "      <td>Rowing</td>\n",
              "      <td>890</td>\n",
              "    </tr>\n",
              "    <tr>\n",
              "      <th>4</th>\n",
              "      <td>Gymnastics</td>\n",
              "      <td>820</td>\n",
              "    </tr>\n",
              "    <tr>\n",
              "      <th>3</th>\n",
              "      <td>Fencing</td>\n",
              "      <td>552</td>\n",
              "    </tr>\n",
              "  </tbody>\n",
              "</table>\n",
              "</div>"
            ],
            "text/plain": [
              "         SPORT  NUMBER OF GOLD MEDALS\n",
              "0     Aquatics                   1421\n",
              "1    Athletics                   1215\n",
              "17      Rowing                    890\n",
              "4   Gymnastics                    820\n",
              "3      Fencing                    552"
            ]
          },
          "metadata": {},
          "execution_count": 295
        }
      ]
    },
    {
      "cell_type": "code",
      "metadata": {
        "colab": {
          "base_uri": "https://localhost:8080/",
          "height": 578
        },
        "id": "s2-L1FN07H8L",
        "outputId": "890d408f-e103-4425-a2a6-3a68e13d7dcc"
      },
      "source": [
        "Gold_Medals_Per_Sport.head().plot(x = 'SPORT', y = 'NUMBER OF GOLD MEDALS', kind = 'bar', figsize = (15,8), color = 'maroon')\n",
        "plt.title('SPORTS IN SUMMER OLYMPICS HAVING MAXIMUM NUMBER OF GOLD MEDALS DISTRIBUTED SO FAR')"
      ],
      "execution_count": 296,
      "outputs": [
        {
          "output_type": "execute_result",
          "data": {
            "text/plain": [
              "Text(0.5, 1.0, 'SPORTS IN SUMMER OLYMPICS HAVING MAXIMUM NUMBER OF GOLD MEDALS DISTRIBUTED SO FAR')"
            ]
          },
          "metadata": {},
          "execution_count": 296
        },
        {
          "output_type": "display_data",
          "data": {
            "image/png": "[encoded data removed]",
            "text/plain": [
              "<Figure size 1080x576 with 1 Axes>"
            ]
          },
          "metadata": {
            "needs_background": "light"
          }
        }
      ]
    },
    {
      "cell_type": "markdown",
      "metadata": {
        "id": "JRVtpcqZVTZ_"
      },
      "source": [
        "### **3. Which sport is having most number of medals so far? (Top 5)**"
      ]
    },
    {
      "cell_type": "code",
      "metadata": {
        "colab": {
          "base_uri": "https://localhost:8080/",
          "height": 203
        },
        "id": "CpihZ8BSMxEF",
        "outputId": "51c5997a-c806-4e77-de39-fec592d84db9"
      },
      "source": [
        "Medals_Per_Sport = []\n",
        "\n",
        "for i in df['Sport'].unique():\n",
        "  Medals_Per_Sport.append([i, len(df[df['Sport'] == i])])\n",
        "\n",
        "Medals_Per_Sport = pd.DataFrame(Medals_Per_Sport, columns = ['SPORT', 'NUMBER OF MEDALS'])\n",
        "\n",
        "Medals_Per_Sport = Medals_Per_Sport.sort_values(by = 'NUMBER OF MEDALS', ascending = False)\n",
        "\n",
        "Medals_Per_Sport.head()"
      ],
      "execution_count": 297,
      "outputs": [
        {
          "output_type": "execute_result",
          "data": {
            "text/html": [
              "<div>\n",
              "<style scoped>\n",
              "    .dataframe tbody tr th:only-of-type {\n",
              "        vertical-align: middle;\n",
              "    }\n",
              "\n",
              "    .dataframe tbody tr th {\n",
              "        vertical-align: top;\n",
              "    }\n",
              "\n",
              "    .dataframe thead th {\n",
              "        text-align: right;\n",
              "    }\n",
              "</style>\n",
              "<table border=\"1\" class=\"dataframe\">\n",
              "  <thead>\n",
              "    <tr style=\"text-align: right;\">\n",
              "      <th></th>\n",
              "      <th>SPORT</th>\n",
              "      <th>NUMBER OF MEDALS</th>\n",
              "    </tr>\n",
              "  </thead>\n",
              "  <tbody>\n",
              "    <tr>\n",
              "      <th>0</th>\n",
              "      <td>Aquatics</td>\n",
              "      <td>4170</td>\n",
              "    </tr>\n",
              "    <tr>\n",
              "      <th>1</th>\n",
              "      <td>Athletics</td>\n",
              "      <td>3638</td>\n",
              "    </tr>\n",
              "    <tr>\n",
              "      <th>17</th>\n",
              "      <td>Rowing</td>\n",
              "      <td>2667</td>\n",
              "    </tr>\n",
              "    <tr>\n",
              "      <th>4</th>\n",
              "      <td>Gymnastics</td>\n",
              "      <td>2307</td>\n",
              "    </tr>\n",
              "    <tr>\n",
              "      <th>3</th>\n",
              "      <td>Fencing</td>\n",
              "      <td>1613</td>\n",
              "    </tr>\n",
              "  </tbody>\n",
              "</table>\n",
              "</div>"
            ],
            "text/plain": [
              "         SPORT  NUMBER OF MEDALS\n",
              "0     Aquatics              4170\n",
              "1    Athletics              3638\n",
              "17      Rowing              2667\n",
              "4   Gymnastics              2307\n",
              "3      Fencing              1613"
            ]
          },
          "metadata": {},
          "execution_count": 297
        }
      ]
    },
    {
      "cell_type": "code",
      "metadata": {
        "colab": {
          "base_uri": "https://localhost:8080/",
          "height": 578
        },
        "id": "3PIbyVfnMumY",
        "outputId": "b0512bbc-510a-4024-f953-aad5cf028199"
      },
      "source": [
        "Medals_Per_Sport.head().plot(x = 'SPORT', y = 'NUMBER OF MEDALS', kind = 'bar', figsize = (15,8), color = 'red')\n",
        "plt.title('SPORTS IN SUMMER OLYMPICS HAVING MAXIMUM NUMBER OF MEDALS DISTRIBUTED SO FAR')"
      ],
      "execution_count": 298,
      "outputs": [
        {
          "output_type": "execute_result",
          "data": {
            "text/plain": [
              "Text(0.5, 1.0, 'SPORTS IN SUMMER OLYMPICS HAVING MAXIMUM NUMBER OF MEDALS DISTRIBUTED SO FAR')"
            ]
          },
          "metadata": {},
          "execution_count": 298
        },
        {
          "output_type": "display_data",
          "data": {
            "image/png": "[encoded data removed]",
            "text/plain": [
              "<Figure size 1080x576 with 1 Axes>"
            ]
          },
          "metadata": {
            "needs_background": "light"
          }
        }
      ]
    },
    {
      "cell_type": "markdown",
      "metadata": {
        "id": "9GJLHr5aVetH"
      },
      "source": [
        "### **4. Which player has won most number of medals? (Top 5)**"
      ]
    },
    {
      "cell_type": "code",
      "metadata": {
        "colab": {
          "base_uri": "https://localhost:8080/",
          "height": 203
        },
        "id": "LwzjPINGVsT7",
        "outputId": "00cd6cf8-821e-42f2-f768-b2d0ed413a91"
      },
      "source": [
        "Medals_Per_Player = []\n",
        "\n",
        "for i in df['Athlete'].unique():\n",
        "  Medals_Per_Player.append([i, len(df[df['Athlete'] == i])])\n",
        "\n",
        "Medals_Per_Player = pd.DataFrame(Medals_Per_Player, columns = ['ATHLETE', 'NUMBER OF MEDALS'])\n",
        "\n",
        "Medals_Per_Player = Medals_Per_Player.sort_values(by = 'NUMBER OF MEDALS', ascending = False)\n",
        "\n",
        "Medals_Per_Player.head()"
      ],
      "execution_count": 299,
      "outputs": [
        {
          "output_type": "execute_result",
          "data": {
            "text/html": [
              "<div>\n",
              "<style scoped>\n",
              "    .dataframe tbody tr th:only-of-type {\n",
              "        vertical-align: middle;\n",
              "    }\n",
              "\n",
              "    .dataframe tbody tr th {\n",
              "        vertical-align: top;\n",
              "    }\n",
              "\n",
              "    .dataframe thead th {\n",
              "        text-align: right;\n",
              "    }\n",
              "</style>\n",
              "<table border=\"1\" class=\"dataframe\">\n",
              "  <thead>\n",
              "    <tr style=\"text-align: right;\">\n",
              "      <th></th>\n",
              "      <th>ATHLETE</th>\n",
              "      <th>NUMBER OF MEDALS</th>\n",
              "    </tr>\n",
              "  </thead>\n",
              "  <tbody>\n",
              "    <tr>\n",
              "      <th>18640</th>\n",
              "      <td>PHELPS, Michael</td>\n",
              "      <td>22</td>\n",
              "    </tr>\n",
              "    <tr>\n",
              "      <th>7197</th>\n",
              "      <td>LATYNINA, Larisa</td>\n",
              "      <td>18</td>\n",
              "    </tr>\n",
              "    <tr>\n",
              "      <th>9948</th>\n",
              "      <td>ANDRIANOV, Nikolay</td>\n",
              "      <td>15</td>\n",
              "    </tr>\n",
              "    <tr>\n",
              "      <th>6591</th>\n",
              "      <td>ONO, Takashi</td>\n",
              "      <td>13</td>\n",
              "    </tr>\n",
              "    <tr>\n",
              "      <th>5103</th>\n",
              "      <td>MANGIAROTTI, Edoardo</td>\n",
              "      <td>13</td>\n",
              "    </tr>\n",
              "  </tbody>\n",
              "</table>\n",
              "</div>"
            ],
            "text/plain": [
              "                    ATHLETE  NUMBER OF MEDALS\n",
              "18640       PHELPS, Michael                22\n",
              "7197       LATYNINA, Larisa                18\n",
              "9948     ANDRIANOV, Nikolay                15\n",
              "6591           ONO, Takashi                13\n",
              "5103   MANGIAROTTI, Edoardo                13"
            ]
          },
          "metadata": {},
          "execution_count": 299
        }
      ]
    },
    {
      "cell_type": "code",
      "metadata": {
        "colab": {
          "base_uri": "https://localhost:8080/",
          "height": 637
        },
        "id": "K-vWKTL-OSWF",
        "outputId": "33bedeec-1e8b-4144-9dd5-8887c0ccb870"
      },
      "source": [
        "Medals_Per_Player.head().plot(x = 'ATHLETE', y = 'NUMBER OF MEDALS', kind = 'bar', figsize = (15,8), color = 'orange')\n",
        "plt.title('ATHLETES WHO HAS WON MOST NUMBER OF MEDALS IN SUMMER OLYMPICS')"
      ],
      "execution_count": 300,
      "outputs": [
        {
          "output_type": "execute_result",
          "data": {
            "text/plain": [
              "Text(0.5, 1.0, 'ATHLETES WHO HAS WON MOST NUMBER OF MEDALS IN SUMMER OLYMPICS')"
            ]
          },
          "metadata": {},
          "execution_count": 300
        },
        {
          "output_type": "display_data",
          "data": {
            "image/png": "[encoded data removed]",
            "text/plain": [
              "<Figure size 1080x576 with 1 Axes>"
            ]
          },
          "metadata": {
            "needs_background": "light"
          }
        }
      ]
    },
    {
      "cell_type": "markdown",
      "metadata": {
        "id": "6ZQCGJcPVsrJ"
      },
      "source": [
        "### **5. Which player has won most number Gold Medals of medals? (Top 5)**"
      ]
    },
    {
      "cell_type": "code",
      "metadata": {
        "colab": {
          "base_uri": "https://localhost:8080/",
          "height": 203
        },
        "id": "nWtUqAnERqYt",
        "outputId": "580ec2f4-0ea2-4df8-838c-c5bdaf3524f0"
      },
      "source": [
        "GoldMedals = df[(df.Medal) == 'Gold']\n",
        "\n",
        "Gold_Medals_Per_Player = []\n",
        "\n",
        "for i in GoldMedals['Athlete'].unique():\n",
        "  Gold_Medals_Per_Player.append([i, len(GoldMedals[GoldMedals['Athlete'] == i])])\n",
        "\n",
        "Gold_Medals_Per_Player = pd.DataFrame(Gold_Medals_Per_Player, columns = ['ATHLETE', 'NUMBER OF GOLD MEDALS'])\n",
        "\n",
        "Gold_Medals_Per_Player = Gold_Medals_Per_Player.sort_values(by = 'NUMBER OF GOLD MEDALS', ascending = False)\n",
        "\n",
        "Gold_Medals_Per_Player.head()"
      ],
      "execution_count": 301,
      "outputs": [
        {
          "output_type": "execute_result",
          "data": {
            "text/html": [
              "<div>\n",
              "<style scoped>\n",
              "    .dataframe tbody tr th:only-of-type {\n",
              "        vertical-align: middle;\n",
              "    }\n",
              "\n",
              "    .dataframe tbody tr th {\n",
              "        vertical-align: top;\n",
              "    }\n",
              "\n",
              "    .dataframe thead th {\n",
              "        text-align: right;\n",
              "    }\n",
              "</style>\n",
              "<table border=\"1\" class=\"dataframe\">\n",
              "  <thead>\n",
              "    <tr style=\"text-align: right;\">\n",
              "      <th></th>\n",
              "      <th>ATHLETE</th>\n",
              "      <th>NUMBER OF GOLD MEDALS</th>\n",
              "    </tr>\n",
              "  </thead>\n",
              "  <tbody>\n",
              "    <tr>\n",
              "      <th>6851</th>\n",
              "      <td>PHELPS, Michael</td>\n",
              "      <td>18</td>\n",
              "    </tr>\n",
              "    <tr>\n",
              "      <th>3320</th>\n",
              "      <td>SPITZ, Mark</td>\n",
              "      <td>9</td>\n",
              "    </tr>\n",
              "    <tr>\n",
              "      <th>2714</th>\n",
              "      <td>LATYNINA, Larisa</td>\n",
              "      <td>9</td>\n",
              "    </tr>\n",
              "    <tr>\n",
              "      <th>4630</th>\n",
              "      <td>LEWIS, Carl</td>\n",
              "      <td>9</td>\n",
              "    </tr>\n",
              "    <tr>\n",
              "      <th>907</th>\n",
              "      <td>NURMI, Paavo</td>\n",
              "      <td>9</td>\n",
              "    </tr>\n",
              "  </tbody>\n",
              "</table>\n",
              "</div>"
            ],
            "text/plain": [
              "               ATHLETE  NUMBER OF GOLD MEDALS\n",
              "6851   PHELPS, Michael                     18\n",
              "3320       SPITZ, Mark                      9\n",
              "2714  LATYNINA, Larisa                      9\n",
              "4630       LEWIS, Carl                      9\n",
              "907       NURMI, Paavo                      9"
            ]
          },
          "metadata": {},
          "execution_count": 301
        }
      ]
    },
    {
      "cell_type": "code",
      "metadata": {
        "colab": {
          "base_uri": "https://localhost:8080/",
          "height": 530
        },
        "id": "3_n-UjVaVydK",
        "outputId": "76fe0a58-bbfa-47aa-dc2f-8fd467ed268f"
      },
      "source": [
        "Gold_Medals_Per_Player.head().plot(x = 'ATHLETE', y = 'NUMBER OF GOLD MEDALS', kind = 'line', figsize = (15,8), color = 'blue')\n",
        "plt.title('ATHLETES WHO HAS WON MOST NUMBER OF GOLD MEDALS IN SUMMER OLYMPICS')"
      ],
      "execution_count": 319,
      "outputs": [
        {
          "output_type": "execute_result",
          "data": {
            "text/plain": [
              "Text(0.5, 1.0, 'ATHLETES WHO HAS WON MOST NUMBER OF GOLD MEDALS IN SUMMER OLYMPICS')"
            ]
          },
          "metadata": {},
          "execution_count": 319
        },
        {
          "output_type": "display_data",
          "data": {
            "image/png": "[encoded data removed]",
            "text/plain": [
              "<Figure size 1080x576 with 1 Axes>"
            ]
          },
          "metadata": {
            "needs_background": "light"
          }
        }
      ]
    },
    {
      "cell_type": "markdown",
      "metadata": {
        "id": "hS7bbbG3VzCa"
      },
      "source": [
        "### **6. In which year India won first Gold Medal in Summer Olympics?**"
      ]
    },
    {
      "cell_type": "code",
      "metadata": {
        "colab": {
          "base_uri": "https://localhost:8080/",
          "height": 326
        },
        "id": "oKLOCIp_zh0W",
        "outputId": "fe6915c0-977f-441e-937b-dce503e3f976"
      },
      "source": [
        "GoldMedals = df[(df.Medal) == 'Gold']\n",
        "Gold_Medals_For_India = GoldMedals[(GoldMedals.Country) == 'IND']\n",
        "\n",
        "Years_For_Gold_Medals_For_India = []\n",
        "\n",
        "for i in Gold_Medals_For_India['Year'].unique():\n",
        "  Years_For_Gold_Medals_For_India.append(i)\n",
        "\n",
        "Years_For_Gold_Medals_For_India_In_Summer_Olympics = pd.DataFrame(Years_For_Gold_Medals_For_India, columns = ['YEAR'])\n",
        "\n",
        "Years_For_Gold_Medals_For_India_In_Summer_Olympics = Years_For_Gold_Medals_For_India_In_Summer_Olympics.sort_values(by = 'YEAR', ascending = True)\n",
        "\n",
        "Years_For_Gold_Medals_For_India_In_Summer_Olympics"
      ],
      "execution_count": 303,
      "outputs": [
        {
          "output_type": "execute_result",
          "data": {
            "text/html": [
              "<div>\n",
              "<style scoped>\n",
              "    .dataframe tbody tr th:only-of-type {\n",
              "        vertical-align: middle;\n",
              "    }\n",
              "\n",
              "    .dataframe tbody tr th {\n",
              "        vertical-align: top;\n",
              "    }\n",
              "\n",
              "    .dataframe thead th {\n",
              "        text-align: right;\n",
              "    }\n",
              "</style>\n",
              "<table border=\"1\" class=\"dataframe\">\n",
              "  <thead>\n",
              "    <tr style=\"text-align: right;\">\n",
              "      <th></th>\n",
              "      <th>YEAR</th>\n",
              "    </tr>\n",
              "  </thead>\n",
              "  <tbody>\n",
              "    <tr>\n",
              "      <th>0</th>\n",
              "      <td>1928</td>\n",
              "    </tr>\n",
              "    <tr>\n",
              "      <th>1</th>\n",
              "      <td>1932</td>\n",
              "    </tr>\n",
              "    <tr>\n",
              "      <th>2</th>\n",
              "      <td>1936</td>\n",
              "    </tr>\n",
              "    <tr>\n",
              "      <th>3</th>\n",
              "      <td>1948</td>\n",
              "    </tr>\n",
              "    <tr>\n",
              "      <th>4</th>\n",
              "      <td>1952</td>\n",
              "    </tr>\n",
              "    <tr>\n",
              "      <th>5</th>\n",
              "      <td>1956</td>\n",
              "    </tr>\n",
              "    <tr>\n",
              "      <th>6</th>\n",
              "      <td>1964</td>\n",
              "    </tr>\n",
              "    <tr>\n",
              "      <th>7</th>\n",
              "      <td>1980</td>\n",
              "    </tr>\n",
              "    <tr>\n",
              "      <th>8</th>\n",
              "      <td>2008</td>\n",
              "    </tr>\n",
              "  </tbody>\n",
              "</table>\n",
              "</div>"
            ],
            "text/plain": [
              "   YEAR\n",
              "0  1928\n",
              "1  1932\n",
              "2  1936\n",
              "3  1948\n",
              "4  1952\n",
              "5  1956\n",
              "6  1964\n",
              "7  1980\n",
              "8  2008"
            ]
          },
          "metadata": {},
          "execution_count": 303
        }
      ]
    },
    {
      "cell_type": "code",
      "metadata": {
        "colab": {
          "base_uri": "https://localhost:8080/"
        },
        "id": "-IzzSePxXtsr",
        "outputId": "efde7338-d645-40c8-f28f-2e3853183aa6"
      },
      "source": [
        "print(\"First Ever Summer Olympics Gold Medal For INDIA Came In The Year : \", Years_For_Gold_Medals_For_India[0])"
      ],
      "execution_count": 304,
      "outputs": [
        {
          "output_type": "stream",
          "name": "stdout",
          "text": [
            "First Ever Summer Olympics Gold Medal For INDIA Came In The Year :  1928\n"
          ]
        }
      ]
    },
    {
      "cell_type": "markdown",
      "metadata": {
        "id": "yQA9pc4PV7K6"
      },
      "source": [
        "### **7. Which event is most popular in terms on number of players? (Top 5)**"
      ]
    },
    {
      "cell_type": "code",
      "metadata": {
        "colab": {
          "base_uri": "https://localhost:8080/",
          "height": 203
        },
        "id": "CGlCO7a1Y1Vl",
        "outputId": "cbe62296-14f2-4eaa-a9b2-6858b087089e"
      },
      "source": [
        "Total_Players_Per_Event = []\n",
        "\n",
        "for i in GoldMedals['Event'].unique():\n",
        "  Total_Players_Per_Event.append([i, len(df[df['Event'] == i])])\n",
        "\n",
        "Total_Players_Per_Event = pd.DataFrame(Total_Players_Per_Event, columns = ['EVENT', 'NUMBER OF PLAYERS'])\n",
        "\n",
        "Total_Players_Per_Event = Total_Players_Per_Event.sort_values(by = 'NUMBER OF PLAYERS', ascending = False)\n",
        "\n",
        "Total_Players_Per_Event.head()"
      ],
      "execution_count": 305,
      "outputs": [
        {
          "output_type": "execute_result",
          "data": {
            "text/html": [
              "<div>\n",
              "<style scoped>\n",
              "    .dataframe tbody tr th:only-of-type {\n",
              "        vertical-align: middle;\n",
              "    }\n",
              "\n",
              "    .dataframe tbody tr th {\n",
              "        vertical-align: top;\n",
              "    }\n",
              "\n",
              "    .dataframe thead th {\n",
              "        text-align: right;\n",
              "    }\n",
              "</style>\n",
              "<table border=\"1\" class=\"dataframe\">\n",
              "  <thead>\n",
              "    <tr style=\"text-align: right;\">\n",
              "      <th></th>\n",
              "      <th>EVENT</th>\n",
              "      <th>NUMBER OF PLAYERS</th>\n",
              "    </tr>\n",
              "  </thead>\n",
              "  <tbody>\n",
              "    <tr>\n",
              "      <th>80</th>\n",
              "      <td>Football</td>\n",
              "      <td>1497</td>\n",
              "    </tr>\n",
              "    <tr>\n",
              "      <th>176</th>\n",
              "      <td>Hockey</td>\n",
              "      <td>1422</td>\n",
              "    </tr>\n",
              "    <tr>\n",
              "      <th>138</th>\n",
              "      <td>Team Competition</td>\n",
              "      <td>1147</td>\n",
              "    </tr>\n",
              "    <tr>\n",
              "      <th>327</th>\n",
              "      <td>Basketball</td>\n",
              "      <td>1012</td>\n",
              "    </tr>\n",
              "    <tr>\n",
              "      <th>337</th>\n",
              "      <td>Handball</td>\n",
              "      <td>973</td>\n",
              "    </tr>\n",
              "  </tbody>\n",
              "</table>\n",
              "</div>"
            ],
            "text/plain": [
              "                EVENT  NUMBER OF PLAYERS\n",
              "80           Football               1497\n",
              "176            Hockey               1422\n",
              "138  Team Competition               1147\n",
              "327        Basketball               1012\n",
              "337          Handball                973"
            ]
          },
          "metadata": {},
          "execution_count": 305
        }
      ]
    },
    {
      "cell_type": "code",
      "metadata": {
        "colab": {
          "base_uri": "https://localhost:8080/",
          "height": 530
        },
        "id": "zlx_CyCRV-7d",
        "outputId": "a7e20e1c-b680-4f61-ad7d-e0352594f705"
      },
      "source": [
        "Total_Players_Per_Event.head().plot(x = 'EVENT', y = 'NUMBER OF PLAYERS', kind = 'line', figsize = (15,8), color = 'green')\n",
        "plt.title('SPORTS WITH MOST POPULARITY IN TERMS OF NUMBER OF ATHLETES PLAYING THE SPORT')"
      ],
      "execution_count": 306,
      "outputs": [
        {
          "output_type": "execute_result",
          "data": {
            "text/plain": [
              "Text(0.5, 1.0, 'SPORTS WITH MOST POPULARITY IN TERMS OF NUMBER OF ATHLETES PLAYING THE SPORT')"
            ]
          },
          "metadata": {},
          "execution_count": 306
        },
        {
          "output_type": "display_data",
          "data": {
            "image/png": "[encoded data removed]",
            "text/plain": [
              "<Figure size 1080x576 with 1 Axes>"
            ]
          },
          "metadata": {
            "needs_background": "light"
          }
        }
      ]
    },
    {
      "cell_type": "markdown",
      "metadata": {
        "id": "bFEKUomZV_Rb"
      },
      "source": [
        "### **8. Which sport is having most female Gold Medalists? (Top 5)**"
      ]
    },
    {
      "cell_type": "code",
      "metadata": {
        "colab": {
          "base_uri": "https://localhost:8080/",
          "height": 203
        },
        "id": "HtbiTOUwcfi-",
        "outputId": "e4c25372-11db-4563-8487-9e2b46d0bfd5"
      },
      "source": [
        "GoldMedals = df[(df.Medal) == 'Gold']\n",
        "Female_Gold_Medalists = GoldMedals[(GoldMedals.Gender) == 'Women']\n",
        "\n",
        "Sports_With_Female_Gold_Medalists = []\n",
        "\n",
        "for i in Female_Gold_Medalists['Sport'].unique():\n",
        "  Sports_With_Female_Gold_Medalists.append([i, len(Female_Gold_Medalists[Female_Gold_Medalists['Sport'] == i])])\n",
        "\n",
        "Sports_With_Female_Gold_Medalists = pd.DataFrame(Sports_With_Female_Gold_Medalists, columns = ['SPORT', 'NUMBER OF FEMALE GOLD MEDALISTS'])\n",
        "\n",
        "Sports_With_Female_Gold_Medalists = Sports_With_Female_Gold_Medalists.sort_values(by = 'NUMBER OF FEMALE GOLD MEDALISTS', ascending = False)\n",
        "\n",
        "Sports_With_Female_Gold_Medalists.head()"
      ],
      "execution_count": 307,
      "outputs": [
        {
          "output_type": "execute_result",
          "data": {
            "text/html": [
              "<div>\n",
              "<style scoped>\n",
              "    .dataframe tbody tr th:only-of-type {\n",
              "        vertical-align: middle;\n",
              "    }\n",
              "\n",
              "    .dataframe tbody tr th {\n",
              "        vertical-align: top;\n",
              "    }\n",
              "\n",
              "    .dataframe thead th {\n",
              "        text-align: right;\n",
              "    }\n",
              "</style>\n",
              "<table border=\"1\" class=\"dataframe\">\n",
              "  <thead>\n",
              "    <tr style=\"text-align: right;\">\n",
              "      <th></th>\n",
              "      <th>SPORT</th>\n",
              "      <th>NUMBER OF FEMALE GOLD MEDALISTS</th>\n",
              "    </tr>\n",
              "  </thead>\n",
              "  <tbody>\n",
              "    <tr>\n",
              "      <th>4</th>\n",
              "      <td>Aquatics</td>\n",
              "      <td>589</td>\n",
              "    </tr>\n",
              "    <tr>\n",
              "      <th>7</th>\n",
              "      <td>Athletics</td>\n",
              "      <td>389</td>\n",
              "    </tr>\n",
              "    <tr>\n",
              "      <th>8</th>\n",
              "      <td>Gymnastics</td>\n",
              "      <td>268</td>\n",
              "    </tr>\n",
              "    <tr>\n",
              "      <th>14</th>\n",
              "      <td>Rowing</td>\n",
              "      <td>217</td>\n",
              "    </tr>\n",
              "    <tr>\n",
              "      <th>11</th>\n",
              "      <td>Volleyball</td>\n",
              "      <td>166</td>\n",
              "    </tr>\n",
              "  </tbody>\n",
              "</table>\n",
              "</div>"
            ],
            "text/plain": [
              "         SPORT  NUMBER OF FEMALE GOLD MEDALISTS\n",
              "4     Aquatics                              589\n",
              "7    Athletics                              389\n",
              "8   Gymnastics                              268\n",
              "14      Rowing                              217\n",
              "11  Volleyball                              166"
            ]
          },
          "metadata": {},
          "execution_count": 307
        }
      ]
    },
    {
      "cell_type": "code",
      "metadata": {
        "colab": {
          "base_uri": "https://localhost:8080/",
          "height": 578
        },
        "id": "zzw40t1YWFHm",
        "outputId": "490c91d8-d91b-45c6-fa4b-ca4c7dd52273"
      },
      "source": [
        "Sports_With_Female_Gold_Medalists.head().plot(x = 'SPORT', y = 'NUMBER OF FEMALE GOLD MEDALISTS', kind = 'bar', figsize = (15,8), color = 'silver')\n",
        "plt.title('SPORTS HAVING THE MAXIMUM NUMBER OF FEMALE GOLD MEDALISTS')"
      ],
      "execution_count": 320,
      "outputs": [
        {
          "output_type": "execute_result",
          "data": {
            "text/plain": [
              "Text(0.5, 1.0, 'SPORTS HAVING THE MAXIMUM NUMBER OF FEMALE GOLD MEDALISTS')"
            ]
          },
          "metadata": {},
          "execution_count": 320
        },
        {
          "output_type": "display_data",
          "data": {
            "image/png": "[encoded data removed]",
            "text/plain": [
              "<Figure size 1080x576 with 1 Axes>"
            ]
          },
          "metadata": {
            "needs_background": "light"
          }
        }
      ]
    }
  ]
}